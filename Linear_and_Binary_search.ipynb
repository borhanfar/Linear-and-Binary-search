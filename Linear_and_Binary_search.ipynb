{
  "nbformat": 4,
  "nbformat_minor": 0,
  "metadata": {
    "colab": {
      "name": "Linear and Binary search.ipynb",
      "provenance": []
    },
    "kernelspec": {
      "name": "python3",
      "display_name": "Python 3"
    },
    "language_info": {
      "name": "python"
    }
  },
  "cells": [
    {
      "cell_type": "markdown",
      "metadata": {
        "id": "tAuySnh3Pmy1"
      },
      "source": [
        "#Linear search\n"
      ]
    },
    {
      "cell_type": "code",
      "metadata": {
        "colab": {
          "base_uri": "https://localhost:8080/"
        },
        "id": "U7sWjVq4Py1R",
        "outputId": "192a7127-b5c8-446a-932a-5453b961581c"
      },
      "source": [
        "import csv\n",
        "def extractarr():\n",
        "    with open(\"bl_printed_music_500 .csv\" , newline=\"\", encoding=\"utf-8-sig\") as csvfile:\n",
        "         reader=csv.DictReader(csvfile)\n",
        "         arr=[]\n",
        "         for row in reader:\n",
        "            if row[\"Publication date (standardised)\"]!=\"\":\n",
        "                arr.append(int(row[\"Publication date (standardised)\"]))\n",
        "         return arr\n",
        "\n",
        "\n",
        "def linearsearch(arr, key):\n",
        "   count=0\n",
        "   exist=False\n",
        "   for i in arr:\n",
        "      if i == key:\n",
        "         exist=True\n",
        "         return [exist,count]\n",
        "      else:\n",
        "            count=count+1\n",
        "   return exist\n",
        "\n",
        "# Test   \n",
        "arr=extractarr()\n",
        "print(linearsearch(arr,1965))\n"
      ],
      "execution_count": 5,
      "outputs": [
        {
          "output_type": "stream",
          "name": "stdout",
          "text": [
            "[True, 167]\n"
          ]
        }
      ]
    },
    {
      "cell_type": "markdown",
      "metadata": {
        "id": "l6QwvdiHQJpf"
      },
      "source": [
        "#Binary search"
      ]
    },
    {
      "cell_type": "code",
      "metadata": {
        "colab": {
          "base_uri": "https://localhost:8080/"
        },
        "id": "O3XmPmlZQPqi",
        "outputId": "f57a07f2-4c67-45a3-e91a-f7c25b0adfa6"
      },
      "source": [
        "def extractarr():\n",
        "    with open(\"bl_printed_music_500 .csv\" , newline=\"\", encoding=\"utf-8-sig\") as csvfile:\n",
        "         reader=csv.DictReader(csvfile)\n",
        "         arr=[]\n",
        "         for row in reader:\n",
        "            if row[\"Publication date (standardised)\"]!=\"\":\n",
        "                arr.append(int(row[\"Publication date (standardised)\"]))\n",
        "         return arr\n",
        "\n",
        "def binarySearch(arr, l, r, x):\n",
        "    count=0\n",
        "    exist=False\n",
        "    while l <= r: \n",
        "  \n",
        "        mid = int(l + (r - l)/2) \n",
        "        if arr[mid] == x:\n",
        "            exist=True \n",
        "            return [exist,count]\n",
        "        elif arr[mid] < x: \n",
        "            l = mid + 1\n",
        "            count=count+1\n",
        "        else: \n",
        "              r = mid - 1\n",
        "              count=count+1\n",
        "\n",
        "    return exist\n",
        "\n",
        "# Test    \n",
        "arr=extractarr()\n",
        "z=sorted(arr)\n",
        "x=1965  \n",
        "\n",
        "print(binarySearch(z, 0, len(z)-1, x)) "
      ],
      "execution_count": 4,
      "outputs": [
        {
          "output_type": "stream",
          "name": "stdout",
          "text": [
            "[True, 5]\n"
          ]
        }
      ]
    }
  ]
}